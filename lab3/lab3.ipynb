{
 "cells": [
  {
   "cell_type": "markdown",
   "id": "6b78efce-3098-4850-b441-e20b7a1bf22a",
   "metadata": {},
   "source": [
    "Functions"
   ]
  },
  {
   "cell_type": "code",
   "execution_count": 8,
   "id": "bca8e989-f592-4f84-9393-ff3e4eab8fcd",
   "metadata": {},
   "outputs": [
    {
     "name": "stdout",
     "output_type": "stream",
     "text": [
      "Hi, please enter the weight in gramm to convert to ounces 5\n"
     ]
    },
    {
     "name": "stdout",
     "output_type": "stream",
     "text": [
      "Weight in ounces -  141.7476155\n"
     ]
    }
   ],
   "source": [
    "def ounces():\n",
    "    a = float(input('Hi, please enter the weight in gramm to convert to ounces'))\n",
    "    print('Weight in ounces - ', a * 28.3495231)\n",
    "ounces()"
   ]
  },
  {
   "cell_type": "code",
   "execution_count": 12,
   "id": "5f400a7a-9902-4e49-8071-b69db76862d9",
   "metadata": {},
   "outputs": [
    {
     "name": "stdout",
     "output_type": "stream",
     "text": [
      "Please enter the value of temperature in Fahrenheit 4\n"
     ]
    },
    {
     "name": "stdout",
     "output_type": "stream",
     "text": [
      "Temperature in Celcius:  -15.555555555555557\n"
     ]
    }
   ],
   "source": [
    "def celcius():\n",
    "    a = float(input('Please enter the value of temperature in Fahrenheit'))\n",
    "    print('Temperature in Celcius: ', ((5 / 9)*(a - 32)))\n",
    "\n",
    "celcius()"
   ]
  },
  {
   "cell_type": "code",
   "execution_count": 20,
   "id": "1a88d3a8-96f3-46ea-b26c-7e87e7009e6d",
   "metadata": {},
   "outputs": [
    {
     "name": "stdout",
     "output_type": "stream",
     "text": [
      "Please enter the sum of head:  35\n",
      "Please enter the sum of legs:  94\n"
     ]
    },
    {
     "name": "stdout",
     "output_type": "stream",
     "text": [
      "Chickens -  23.0\n",
      "Rabbits -  12.0\n"
     ]
    }
   ],
   "source": [
    "def solve(numheads, numlegs):\n",
    "    y = (4 * numheads - numlegs) / 2\n",
    "    x = numheads - y\n",
    "    print('Chickens - ', y)\n",
    "    print('Rabbits - ', x)\n",
    "\n",
    "a = int(input(\"Please enter the sum of head: \"))\n",
    "b = int(input(\"Please enter the sum of legs: \"))\n",
    "solve(a, b)\n"
   ]
  },
  {
   "cell_type": "code",
   "execution_count": 44,
   "id": "4118f06e-536e-4762-8981-564fa4a03271",
   "metadata": {},
   "outputs": [
    {
     "name": "stdout",
     "output_type": "stream",
     "text": [
      "Please enter the numbers:  10 11 12\n"
     ]
    },
    {
     "name": "stdout",
     "output_type": "stream",
     "text": [
      "11\n"
     ]
    }
   ],
   "source": [
    "def filter_prime(lst):\n",
    "    prime = {}\n",
    "    for i in range(len(lst)):\n",
    "        a = 1\n",
    "        b = int(lst[i])\n",
    "        for j in range(2, b):\n",
    "            if b % j == 0:\n",
    "                a = 0\n",
    "        if a == 1:\n",
    "            print(lst[i])\n",
    "\n",
    "a = list(map(int, input('Please enter the numbers: ').split()))\n",
    "filter_prime(a)\n",
    "\n"
   ]
  },
  {
   "cell_type": "code",
   "execution_count": 108,
   "id": "4f5d7318-f9ce-4496-8751-e72a620b0334",
   "metadata": {},
   "outputs": [
    {
     "name": "stdout",
     "output_type": "stream",
     "text": [
      "Please enter the words:  abcde\n"
     ]
    },
    {
     "name": "stdout",
     "output_type": "stream",
     "text": [
      "['a', 'b', 'c', 'e', 'd']\n",
      "['a', 'b', 'e', 'c', 'd']\n",
      "['a', 'e', 'b', 'c', 'd']\n",
      "['e', 'a', 'b', 'c', 'd']\n",
      "['d', 'a', 'b', 'c', 'e']\n",
      "['d', 'a', 'b', 'e', 'c']\n",
      "['d', 'a', 'e', 'b', 'c']\n",
      "['d', 'e', 'a', 'b', 'c']\n",
      "['e', 'd', 'a', 'b', 'c']\n",
      "['c', 'd', 'a', 'b', 'e']\n",
      "['c', 'd', 'a', 'e', 'b']\n",
      "['c', 'd', 'e', 'a', 'b']\n",
      "['c', 'e', 'd', 'a', 'b']\n",
      "['e', 'c', 'd', 'a', 'b']\n",
      "['b', 'c', 'd', 'a', 'e']\n",
      "['b', 'c', 'd', 'e', 'a']\n",
      "['b', 'c', 'e', 'd', 'a']\n",
      "['b', 'e', 'c', 'd', 'a']\n",
      "['e', 'b', 'c', 'd', 'a']\n",
      "['a', 'b', 'c', 'd', 'e']\n",
      "['a', 'b', 'c', 'e', 'd']\n",
      "['a', 'b', 'e', 'c', 'd']\n",
      "['a', 'e', 'b', 'c', 'd']\n",
      "['e', 'a', 'b', 'c', 'd']\n",
      "['d', 'a', 'b', 'c', 'e']\n",
      "['d', 'a', 'b', 'e', 'c']\n",
      "['d', 'a', 'e', 'b', 'c']\n",
      "['d', 'e', 'a', 'b', 'c']\n",
      "['e', 'd', 'a', 'b', 'c']\n",
      "['c', 'd', 'a', 'b', 'e']\n",
      "['c', 'd', 'a', 'e', 'b']\n",
      "['c', 'd', 'e', 'a', 'b']\n",
      "['c', 'e', 'd', 'a', 'b']\n",
      "['e', 'c', 'd', 'a', 'b']\n",
      "['b', 'c', 'd', 'a', 'e']\n",
      "['b', 'c', 'd', 'e', 'a']\n",
      "['b', 'c', 'e', 'd', 'a']\n",
      "['b', 'e', 'c', 'd', 'a']\n",
      "['e', 'b', 'c', 'd', 'a']\n",
      "['a', 'b', 'c', 'd', 'e']\n",
      "['a', 'b', 'c', 'e', 'd']\n",
      "['a', 'b', 'e', 'c', 'd']\n",
      "['a', 'e', 'b', 'c', 'd']\n",
      "['e', 'a', 'b', 'c', 'd']\n",
      "['d', 'a', 'b', 'c', 'e']\n",
      "['d', 'a', 'b', 'e', 'c']\n",
      "['d', 'a', 'e', 'b', 'c']\n",
      "['d', 'e', 'a', 'b', 'c']\n",
      "['e', 'd', 'a', 'b', 'c']\n",
      "['c', 'd', 'a', 'b', 'e']\n",
      "['c', 'd', 'a', 'e', 'b']\n",
      "['c', 'd', 'e', 'a', 'b']\n",
      "['c', 'e', 'd', 'a', 'b']\n",
      "['e', 'c', 'd', 'a', 'b']\n",
      "['b', 'c', 'd', 'a', 'e']\n",
      "['b', 'c', 'd', 'e', 'a']\n",
      "['b', 'c', 'e', 'd', 'a']\n",
      "['b', 'e', 'c', 'd', 'a']\n",
      "['e', 'b', 'c', 'd', 'a']\n",
      "['a', 'b', 'c', 'd', 'e']\n",
      "['a', 'b', 'c', 'e', 'd']\n",
      "['a', 'b', 'e', 'c', 'd']\n",
      "['a', 'e', 'b', 'c', 'd']\n",
      "['e', 'a', 'b', 'c', 'd']\n",
      "['d', 'a', 'b', 'c', 'e']\n",
      "['d', 'a', 'b', 'e', 'c']\n",
      "['d', 'a', 'e', 'b', 'c']\n",
      "['d', 'e', 'a', 'b', 'c']\n",
      "['e', 'd', 'a', 'b', 'c']\n",
      "['c', 'd', 'a', 'b', 'e']\n",
      "['c', 'd', 'a', 'e', 'b']\n",
      "['c', 'd', 'e', 'a', 'b']\n",
      "['c', 'e', 'd', 'a', 'b']\n",
      "['e', 'c', 'd', 'a', 'b']\n",
      "['b', 'c', 'd', 'a', 'e']\n",
      "['b', 'c', 'd', 'e', 'a']\n",
      "['b', 'c', 'e', 'd', 'a']\n",
      "['b', 'e', 'c', 'd', 'a']\n",
      "['e', 'b', 'c', 'd', 'a']\n",
      "['a', 'b', 'c', 'd', 'e']\n",
      "['a', 'b', 'c', 'e', 'd']\n",
      "['a', 'b', 'e', 'c', 'd']\n",
      "['a', 'e', 'b', 'c', 'd']\n",
      "['e', 'a', 'b', 'c', 'd']\n",
      "['d', 'a', 'b', 'c', 'e']\n",
      "['d', 'a', 'b', 'e', 'c']\n",
      "['d', 'a', 'e', 'b', 'c']\n",
      "['d', 'e', 'a', 'b', 'c']\n",
      "['e', 'd', 'a', 'b', 'c']\n",
      "['c', 'd', 'a', 'b', 'e']\n",
      "['c', 'd', 'a', 'e', 'b']\n",
      "['c', 'd', 'e', 'a', 'b']\n",
      "['c', 'e', 'd', 'a', 'b']\n",
      "['e', 'c', 'd', 'a', 'b']\n",
      "['b', 'c', 'd', 'a', 'e']\n",
      "['b', 'c', 'd', 'e', 'a']\n",
      "['b', 'c', 'e', 'd', 'a']\n",
      "['b', 'e', 'c', 'd', 'a']\n",
      "['e', 'b', 'c', 'd', 'a']\n",
      "['a', 'b', 'c', 'd', 'e']\n",
      "['a', 'b', 'c', 'e', 'd']\n",
      "['a', 'b', 'e', 'c', 'd']\n",
      "['a', 'e', 'b', 'c', 'd']\n",
      "['e', 'a', 'b', 'c', 'd']\n",
      "['d', 'a', 'b', 'c', 'e']\n",
      "['d', 'a', 'b', 'e', 'c']\n",
      "['d', 'a', 'e', 'b', 'c']\n",
      "['d', 'e', 'a', 'b', 'c']\n",
      "['e', 'd', 'a', 'b', 'c']\n",
      "['c', 'd', 'a', 'b', 'e']\n",
      "['c', 'd', 'a', 'e', 'b']\n",
      "['c', 'd', 'e', 'a', 'b']\n",
      "['c', 'e', 'd', 'a', 'b']\n",
      "['e', 'c', 'd', 'a', 'b']\n",
      "['b', 'c', 'd', 'a', 'e']\n",
      "['b', 'c', 'd', 'e', 'a']\n",
      "['b', 'c', 'e', 'd', 'a']\n",
      "['b', 'e', 'c', 'd', 'a']\n",
      "['e', 'b', 'c', 'd', 'a']\n",
      "['a', 'b', 'c', 'd', 'e']\n"
     ]
    }
   ],
   "source": [
    "def permutation(a, b):\n",
    "    cnt = 1\n",
    "    \n",
    "    for j in range(int(b / len(a)), 0, -1):\n",
    "        for i in range(len(a) - 1, -1, -1):\n",
    "            \n",
    "            x = a[i]\n",
    "            a[i] = a[i - 1]\n",
    "            a[i - 1] = x\n",
    "            \n",
    "            cnt += 1\n",
    "            \n",
    "            if cnt == len(a):\n",
    "                cnt = 0\n",
    "            \n",
    "            print(a)\n",
    "        \n",
    "a = list(input(\"Please enter the words: \")) #использовал list так как не смог менять местами буквы в строке\n",
    "factorial = 1\n",
    "\n",
    "for i in range(1, len(a) + 1):\n",
    "    factorial *= i\n",
    "\n",
    "permutation(a, factorial)"
   ]
  },
  {
   "cell_type": "code",
   "execution_count": 126,
   "id": "54eca80d-116f-4253-a1ad-6e2a30623117",
   "metadata": {},
   "outputs": [
    {
     "name": "stdout",
     "output_type": "stream",
     "text": [
      "Please enter the sentence:  hello world i am happ to see you\n"
     ]
    },
    {
     "name": "stdout",
     "output_type": "stream",
     "text": [
      "you see to happ am i world hello\n"
     ]
    }
   ],
   "source": [
    "def reversed(a):\n",
    "    x = a.split()\n",
    "    a = str()\n",
    "    for i in range(len(x) - 1, -1, -1):\n",
    "        a = a + x[i]\n",
    "        if i > 0:\n",
    "            a = a + ' '\n",
    "    print(a)\n",
    "    \n",
    "a = str(input('Please enter the sentence: '))\n",
    "reversed(a)"
   ]
  },
  {
   "cell_type": "code",
   "execution_count": 140,
   "id": "819dbc75-60d3-4e45-abf4-053cd9accb00",
   "metadata": {},
   "outputs": [
    {
     "name": "stdout",
     "output_type": "stream",
     "text": [
      "Please enter the numbers:  1 2 3 4 5\n"
     ]
    },
    {
     "data": {
      "text/plain": [
       "False"
      ]
     },
     "execution_count": 140,
     "metadata": {},
     "output_type": "execute_result"
    }
   ],
   "source": [
    "def has_33(nums):\n",
    "    for i in range(0, len(nums) - 1):\n",
    "        if nums[i] == 3 and nums[i] == nums[i + 1]:\n",
    "            check = 1\n",
    "            return True\n",
    "    return False\n",
    "\n",
    "a = list(map(int, input('Please enter the numbers: ').split()))\n",
    "has_33(a)"
   ]
  },
  {
   "cell_type": "code",
   "execution_count": 144,
   "id": "0ca51074-75f1-4b4d-85b7-3da5c457120c",
   "metadata": {},
   "outputs": [
    {
     "name": "stdout",
     "output_type": "stream",
     "text": [
      "Please enter the numbers:  1 2 3 4 0 0 7 \n"
     ]
    },
    {
     "data": {
      "text/plain": [
       "True"
      ]
     },
     "execution_count": 144,
     "metadata": {},
     "output_type": "execute_result"
    }
   ],
   "source": [
    "def spy_game(nums):\n",
    "    for i in range(0 , len(nums) -2):\n",
    "        if a[i] == 0 and a[i] == a[i + 1] and a[i + 2] == 7:\n",
    "            return True\n",
    "    return False\n",
    "\n",
    "a = list(map(int, input('Please enter the numbers: ').split()))\n",
    "spy_game(a)"
   ]
  },
  {
   "cell_type": "code",
   "execution_count": 156,
   "id": "7ba86016-2635-4cb7-95d3-e789b5f57953",
   "metadata": {},
   "outputs": [
    {
     "name": "stdout",
     "output_type": "stream",
     "text": [
      "Please enter the radius:  5\n"
     ]
    },
    {
     "name": "stdout",
     "output_type": "stream",
     "text": [
      "523.3333333333334\n"
     ]
    }
   ],
   "source": [
    "def volume(r):\n",
    "    print(4 * 3.14 * pow(r, 3) / 3)\n",
    "\n",
    "r = float(input('Please enter the radius: '))\n",
    "volume(r)"
   ]
  },
  {
   "cell_type": "code",
   "execution_count": 46,
   "id": "441fae35-8495-40c7-a0c5-612879fb9e4a",
   "metadata": {},
   "outputs": [
    {
     "name": "stdout",
     "output_type": "stream",
     "text": [
      "Please write something:  abc aba abz abc aba bzx\n"
     ]
    },
    {
     "name": "stdout",
     "output_type": "stream",
     "text": [
      "1st:  ['abc']\n",
      "ans:  ['abc', 'aba', 'abz', 'bzx']\n"
     ]
    }
   ],
   "source": [
    "def unique_list(oldList):\n",
    "    \n",
    "    ul = []\n",
    "    ul.append(oldList[0])\n",
    "    print('1st: ', ul)\n",
    "    \n",
    "    for i in range(1, len(oldList)):\n",
    "        a = 1\n",
    "        \n",
    "        for j in range(len(ul)):\n",
    "        \n",
    "            if oldList[i] == ul[j]:\n",
    "                a = 0\n",
    "        \n",
    "        if a == 1:\n",
    "            ul.append(oldList[i])\n",
    "    \n",
    "    print(\"ans: \", ul)\n",
    "\n",
    "\n",
    "oldList = list(input('Please write something: ').split())\n",
    "unique_list(oldList)"
   ]
  },
  {
   "cell_type": "code",
   "execution_count": 50,
   "id": "d8784a0e-43b1-4bf9-b7bd-53106e0e24e0",
   "metadata": {},
   "outputs": [
    {
     "name": "stdout",
     "output_type": "stream",
     "text": [
      "Please write the word or sentence to check:  aba\n"
     ]
    },
    {
     "name": "stdout",
     "output_type": "stream",
     "text": [
      "True\n"
     ]
    }
   ],
   "source": [
    "def is_palindrome(a):\n",
    "    b = a[::-1]\n",
    "    if a == b:\n",
    "        return True\n",
    "    else: return False\n",
    "\n",
    "a = str(input('Please write the word or sentence to check: '))\n",
    "print(is_palindrome(a))"
   ]
  },
  {
   "cell_type": "code",
   "execution_count": 66,
   "id": "481e917a-9569-4256-8ec2-1a76dd3237e2",
   "metadata": {},
   "outputs": [
    {
     "name": "stdout",
     "output_type": "stream",
     "text": [
      "Please enteg the numbers:  10 100 70\n"
     ]
    },
    {
     "name": "stdout",
     "output_type": "stream",
     "text": [
      "**********\n",
      "****************************************************************************************************\n",
      "**********************************************************************\n"
     ]
    }
   ],
   "source": [
    "def histogram(arr):\n",
    "    for i in range(len(arr)):\n",
    "        a = str()\n",
    "        for j in range(arr[i]):\n",
    "            a = a + '*'\n",
    "        print(a)\n",
    "    \n",
    "a = list(map(int, input('Please enteg the numbers: ').split()))\n",
    "histogram(a)"
   ]
  },
  {
   "cell_type": "code",
   "execution_count": 20,
   "id": "2a152ba9-65da-4273-bc12-e94ae44552da",
   "metadata": {},
   "outputs": [
    {
     "name": "stdout",
     "output_type": "stream",
     "text": [
      "Hello! What is your name?\n"
     ]
    },
    {
     "name": "stdin",
     "output_type": "stream",
     "text": [
      " miras\n"
     ]
    },
    {
     "name": "stdout",
     "output_type": "stream",
     "text": [
      "Well, miras, I am thinking of a number between 1 and 20.\n",
      "Take a guess.\n"
     ]
    },
    {
     "name": "stdin",
     "output_type": "stream",
     "text": [
      " 10\n"
     ]
    },
    {
     "name": "stdout",
     "output_type": "stream",
     "text": [
      "Your guess is too hight.\n",
      "Take a guess.\n"
     ]
    },
    {
     "name": "stdin",
     "output_type": "stream",
     "text": [
      " 5\n"
     ]
    },
    {
     "name": "stdout",
     "output_type": "stream",
     "text": [
      "Your guess is too hight.\n",
      "Take a guess.\n"
     ]
    },
    {
     "name": "stdin",
     "output_type": "stream",
     "text": [
      " 2\n"
     ]
    },
    {
     "name": "stdout",
     "output_type": "stream",
     "text": [
      "Your guess is too low.\n",
      "Take a guess.\n"
     ]
    },
    {
     "name": "stdin",
     "output_type": "stream",
     "text": [
      " 3\n"
     ]
    },
    {
     "name": "stdout",
     "output_type": "stream",
     "text": [
      "Good job, KBTU! You guessed my number in 4 guesses!\n"
     ]
    },
    {
     "name": "stdout",
     "output_type": "stream",
     "text": [
      " 10\n"
     ]
    },
    {
     "name": "stdout",
     "output_type": "stream",
     "text": [
      "Your guess is too hight.\n",
      "Take a guess.\n"
     ]
    },
    {
     "name": "stdout",
     "output_type": "stream",
     "text": [
      " 5\n"
     ]
    },
    {
     "name": "stdout",
     "output_type": "stream",
     "text": [
      "Your guess is too hight.\n",
      "Take a guess.\n"
     ]
    },
    {
     "name": "stdout",
     "output_type": "stream",
     "text": [
      " 2\n"
     ]
    },
    {
     "name": "stdout",
     "output_type": "stream",
     "text": [
      "Your guess is too low.\n",
      "Take a guess.\n"
     ]
    },
    {
     "name": "stdout",
     "output_type": "stream",
     "text": [
      " 3\n"
     ]
    },
    {
     "name": "stdout",
     "output_type": "stream",
     "text": [
      "Good job, KBTU! You guessed my number in 4 guesses!\n"
     ]
    }
   ],
   "source": [
    "import random\n",
    "def Guess_the_number():\n",
    "    print('Hello! What is your name?')\n",
    "    name = str(input())\n",
    "    \n",
    "    print(f'Well, {name}, I am thinking of a number between 1 and 20.')\n",
    "    x = random.randint(1, 20)\n",
    "    \n",
    "    b = 0\n",
    "    cnt = 0\n",
    "    \n",
    "    while b != x:\n",
    "        print('Take a guess.')\n",
    "        \n",
    "        b = int(input())\n",
    "        cnt += 1\n",
    "        \n",
    "        if b < x:\n",
    "            print('Your guess is too low.')\n",
    "        elif b > x:\n",
    "            print('Your guess is too hight.')\n",
    "        else: print(f'Good job, KBTU! You guessed my number in {cnt} guesses!')\n",
    "\n",
    "    \n",
    "Guess_the_number()"
   ]
  },
  {
   "cell_type": "code",
   "execution_count": 2,
   "id": "1ef75618-3b59-4716-acd6-5d59dd48be8e",
   "metadata": {},
   "outputs": [
    {
     "name": "stdin",
     "output_type": "stream",
     "text": [
      "Please enter the word or sentence:  aba\n"
     ]
    },
    {
     "name": "stdout",
     "output_type": "stream",
     "text": [
      "Palindrome\n"
     ]
    }
   ],
   "source": [
    "from export14 import is_palindrome\n",
    "\n",
    "a = str(input(\"Please enter the word or sentence: \"))\n",
    "if is_palindrome(a):\n",
    "    print(\"Palindrome\")\n",
    "else:\n",
    "    print(\"Not a palindrome\")\n"
   ]
  },
  {
   "cell_type": "code",
   "execution_count": 26,
   "id": "4c0a1344-15a3-42a9-a578-8ffcc2bfd929",
   "metadata": {},
   "outputs": [
    {
     "name": "stdout",
     "output_type": "stream",
     "text": [
      "Joking muck\n",
      "True\n"
     ]
    }
   ],
   "source": [
    "#func2\n",
    "import random\n",
    "from func2Dictionary import movies\n",
    "\n",
    "rand_movie = random.choice(movies)\n",
    "if rand_movie[\"imdb\"] > 5.5:\n",
    "    print(rand_movie[\"name\"])\n",
    "    print(True)\n",
    "else:\n",
    "    print(False)"
   ]
  },
  {
   "cell_type": "code",
   "execution_count": 54,
   "id": "e0a595da-c032-4214-959e-60c2ac577319",
   "metadata": {},
   "outputs": [
    {
     "name": "stdout",
     "output_type": "stream",
     "text": [
      "{'name': 'Usual Suspects', 'imdb': 7.0, 'category': 'Thriller'}\n",
      "{'name': 'Hitman', 'imdb': 6.3, 'category': 'Action'}\n",
      "{'name': 'Dark Knight', 'imdb': 9.0, 'category': 'Adventure'}\n",
      "{'name': 'The Help', 'imdb': 8.0, 'category': 'Drama'}\n",
      "{'name': 'The Choice', 'imdb': 6.2, 'category': 'Romance'}\n",
      "{'name': 'Colonia', 'imdb': 7.4, 'category': 'Romance'}\n",
      "{'name': 'Love', 'imdb': 6.0, 'category': 'Romance'}\n",
      "{'name': 'Joking muck', 'imdb': 7.2, 'category': 'Comedy'}\n",
      "{'name': 'What is the name', 'imdb': 9.2, 'category': 'Suspense'}\n",
      "{'name': 'Detective', 'imdb': 7.0, 'category': 'Suspense'}\n",
      "{'name': 'We Two', 'imdb': 7.2, 'category': 'Romance'}\n",
      "['Usual Suspects', 'Hitman', 'Dark Knight', 'The Help', 'The Choice', 'Colonia', 'Love', 'Joking muck', 'What is the name', 'Detective', 'We Two']\n"
     ]
    }
   ],
   "source": [
    "from func2Dictionary import movies\n",
    "imdb = []\n",
    "for i in movies:\n",
    "    if i.get(\"imdb\", 0) > 5.5:\n",
    "        print(i)\n",
    "        imdb.append(i[\"name\"])\n",
    "print(imdb)"
   ]
  },
  {
   "cell_type": "code",
   "execution_count": 60,
   "id": "832bd493-bc88-4cbb-b595-d91bbf2374cd",
   "metadata": {},
   "outputs": [
    {
     "name": "stdout",
     "output_type": "stream",
     "text": [
      "Category: \n",
      "1) Thriller\n",
      "2) Action\n",
      "3) Adventure\n",
      "4) Drama\n",
      "5) Romance\n",
      "6) Comedy\n",
      "7) Suspense\n",
      "8) Crime\n",
      "9) War\n"
     ]
    },
    {
     "name": "stdin",
     "output_type": "stream",
     "text": [
      "Please choose the number:  5\n"
     ]
    },
    {
     "name": "stdout",
     "output_type": "stream",
     "text": [
      "{'name': 'The Choice', 'imdb': 6.2, 'category': 'Romance'}\n",
      "{'name': 'Colonia', 'imdb': 7.4, 'category': 'Romance'}\n",
      "{'name': 'Love', 'imdb': 6.0, 'category': 'Romance'}\n",
      "{'name': 'Bride Wars', 'imdb': 5.4, 'category': 'Romance'}\n",
      "{'name': 'We Two', 'imdb': 7.2, 'category': 'Romance'}\n"
     ]
    }
   ],
   "source": [
    "from func2Dictionary import movies\n",
    "print('''Category: \n",
    "1) Thriller\n",
    "2) Action\n",
    "3) Adventure\n",
    "4) Drama\n",
    "5) Romance\n",
    "6) Comedy\n",
    "7) Suspense\n",
    "8) Crime\n",
    "9) War''')\n",
    "a = int(input('Please choose the number: '))\n",
    "category = {\n",
    "    1: \"Thriller\",\n",
    "    2: \"Action\",\n",
    "    3: \"Adventure\",\n",
    "    4: \"Drama\",\n",
    "    5: \"Romance\",\n",
    "    6: \"Comedy\",\n",
    "    7: \"Suspense\",\n",
    "    8: \"Crime\",\n",
    "    9: \"War\"\n",
    "}\n",
    "\n",
    "for i in movies:\n",
    "    if i.get(\"category\") == category[a]:\n",
    "        print(i)\n",
    "\n"
   ]
  },
  {
   "cell_type": "code",
   "execution_count": 78,
   "id": "2e3e55c2-f4a7-4c23-a8f0-df4a4fb706bd",
   "metadata": {},
   "outputs": [
    {
     "name": "stdout",
     "output_type": "stream",
     "text": [
      "6.486666666666667\n"
     ]
    }
   ],
   "source": [
    "from func2Dictionary import movies\n",
    "cnt, avg = 0, 0\n",
    "for i in movies:\n",
    "    cnt += 1\n",
    "    avg += i[\"imdb\"]\n",
    "print(avg/cnt)"
   ]
  },
  {
   "cell_type": "code",
   "execution_count": 110,
   "id": "1fe86ec7-58c1-4500-bfb4-8ad5efb3bb2f",
   "metadata": {},
   "outputs": [
    {
     "name": "stdout",
     "output_type": "stream",
     "text": [
      "Thriller  -  3.733333333333333\n",
      "Action  -  3.15\n",
      "Adventure  -  4.5\n",
      "Drama  -  4.0\n",
      "Romance  -  5.366666666666667\n",
      "Comedy  -  3.6\n",
      "Suspense  -  5.3999999999999995\n",
      "Crime  -  2.0\n",
      "War  -  1.6\n"
     ]
    }
   ],
   "source": [
    "from func2Dictionary import movies\n",
    "\n",
    "category = {\n",
    "    1: \"Thriller\",\n",
    "    2: \"Action\",\n",
    "    3: \"Adventure\",\n",
    "    4: \"Drama\",\n",
    "    5: \"Romance\",\n",
    "    6: \"Comedy\",\n",
    "    7: \"Suspense\",\n",
    "    8: \"Crime\",\n",
    "    9: \"War\"\n",
    "}\n",
    "\n",
    "for i in category:\n",
    "    cnt, avg = 1, 0\n",
    "    for j in movies:\n",
    "        if j[\"category\"] == category[i]:\n",
    "            cnt += 1\n",
    "            avg += j[\"imdb\"]\n",
    "    print(category[i], \" - \", avg/cnt)"
   ]
  },
  {
   "cell_type": "code",
   "execution_count": 112,
   "id": "a093b8a1-96fe-4179-b043-b219542c1dff",
   "metadata": {},
   "outputs": [
    {
     "name": "stdin",
     "output_type": "stream",
     "text": [
      "Enter a string:  bbb\n"
     ]
    },
    {
     "name": "stdout",
     "output_type": "stream",
     "text": [
      "BBB\n"
     ]
    }
   ],
   "source": [
    "class StringManipulator:\n",
    "    def __init__(self):\n",
    "        self.s = \"\"\n",
    "    \n",
    "    def getString(self):\n",
    "        self.s = input(\"Enter a string: \")\n",
    "    \n",
    "    def printString(self):\n",
    "        print(self.s.upper())\n",
    "\n",
    "# Example usage\n",
    "str_manip = StringManipulator()\n",
    "str_manip.getString()\n",
    "str_manip.printString()"
   ]
  },
  {
   "cell_type": "code",
   "execution_count": 2,
   "id": "9c2bee2b-4a53-4092-9438-d4a0504f8b19",
   "metadata": {},
   "outputs": [
    {
     "name": "stdout",
     "output_type": "stream",
     "text": [
      "Square area: 16\n"
     ]
    }
   ],
   "source": [
    "class Shape:\n",
    "    def area(self):\n",
    "        return 0\n",
    "\n",
    "class Square(Shape):\n",
    "    def __init__(self, length):\n",
    "        self.length = length\n",
    "    \n",
    "    def area(self):\n",
    "        return self.length ** 2\n",
    "\n",
    "# Example usage\n",
    "sq = Square(4)\n",
    "print(\"Square area:\", sq.area())"
   ]
  },
  {
   "cell_type": "code",
   "execution_count": 4,
   "id": "66e4ace6-8d25-41d9-879b-2c08ed71bf44",
   "metadata": {},
   "outputs": [
    {
     "name": "stdout",
     "output_type": "stream",
     "text": [
      "Rectangle area: 20\n"
     ]
    }
   ],
   "source": [
    "class Rectangle(Shape):\n",
    "    def __init__(self, length, width):\n",
    "        self.length = length\n",
    "        self.width = width\n",
    "    \n",
    "    def area(self):\n",
    "        return self.length * self.width\n",
    "\n",
    "# Example usage\n",
    "rect = Rectangle(4, 5)\n",
    "print(\"Rectangle area:\", rect.area())"
   ]
  },
  {
   "cell_type": "code",
   "execution_count": 6,
   "id": "ea5967c2-25c5-4577-9d83-fce730c1f391",
   "metadata": {},
   "outputs": [
    {
     "name": "stdout",
     "output_type": "stream",
     "text": [
      "Point(2, 3)\n",
      "Point(5, 7)\n",
      "Distance: 5.0\n"
     ]
    }
   ],
   "source": [
    "import math\n",
    "class Point:\n",
    "    def __init__(self, x, y):\n",
    "        self.x = x\n",
    "        self.y = y\n",
    "    \n",
    "    def show(self):\n",
    "        print(f\"Point({self.x}, {self.y})\")\n",
    "    \n",
    "    def move(self, new_x, new_y):\n",
    "        self.x = new_x\n",
    "        self.y = new_y\n",
    "    \n",
    "    def dist(self, other_point):\n",
    "        return math.sqrt((self.x - other_point.x) ** 2 + (self.y - other_point.y) ** 2)\n",
    "\n",
    "# Example usage\n",
    "p1 = Point(2, 3)\n",
    "p2 = Point(5, 7)\n",
    "p1.show()\n",
    "p2.show()\n",
    "print(\"Distance:\", p1.dist(p2))"
   ]
  },
  {
   "cell_type": "code",
   "execution_count": 8,
   "id": "0608772a-0668-41ca-b034-9129784de9fd",
   "metadata": {},
   "outputs": [
    {
     "name": "stdout",
     "output_type": "stream",
     "text": [
      "Deposited 50. New balance: 150\n",
      "Withdrawn 30. New balance: 120\n",
      "Insufficient funds!\n"
     ]
    }
   ],
   "source": [
    "class Account:\n",
    "    def __init__(self, owner, balance=0):\n",
    "        self.owner = owner\n",
    "        self.balance = balance\n",
    "    \n",
    "    def deposit(self, amount):\n",
    "        self.balance += amount\n",
    "        print(f\"Deposited {amount}. New balance: {self.balance}\")\n",
    "    \n",
    "    def withdraw(self, amount):\n",
    "        if amount > self.balance:\n",
    "            print(\"Insufficient funds!\")\n",
    "        else:\n",
    "            self.balance -= amount\n",
    "            print(f\"Withdrawn {amount}. New balance: {self.balance}\")\n",
    "\n",
    "# Example usage\n",
    "acc = Account(\"John\", 100)\n",
    "acc.deposit(50)\n",
    "acc.withdraw(30)\n",
    "acc.withdraw(150)\n"
   ]
  },
  {
   "cell_type": "code",
   "execution_count": 10,
   "id": "8c953830-495e-4f95-a41d-1ec72f50f530",
   "metadata": {},
   "outputs": [
    {
     "name": "stdout",
     "output_type": "stream",
     "text": [
      "Prime numbers: [2, 3, 5, 7, 11, 13]\n"
     ]
    }
   ],
   "source": [
    "numbers = [2, 3, 5, 7, 8, 9, 11, 13, 15, 18]\n",
    "is_prime = lambda x: x > 1 and all(x % i != 0 for i in range(2, int(math.sqrt(x)) + 1))\n",
    "prime_numbers = list(filter(is_prime, numbers))\n",
    "print(\"Prime numbers:\", prime_numbers)\n"
   ]
  },
  {
   "cell_type": "code",
   "execution_count": null,
   "id": "d1980d0f-3726-4d80-beb3-8b9ce25ae0f4",
   "metadata": {},
   "outputs": [],
   "source": []
  }
 ],
 "metadata": {
  "kernelspec": {
   "display_name": "Python [conda env:base] *",
   "language": "python",
   "name": "conda-base-py"
  },
  "language_info": {
   "codemirror_mode": {
    "name": "ipython",
    "version": 3
   },
   "file_extension": ".py",
   "mimetype": "text/x-python",
   "name": "python",
   "nbconvert_exporter": "python",
   "pygments_lexer": "ipython3",
   "version": "3.12.7"
  }
 },
 "nbformat": 4,
 "nbformat_minor": 5
}

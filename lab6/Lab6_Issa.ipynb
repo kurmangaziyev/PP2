{
 "cells": [
  {
   "cell_type": "markdown",
   "id": "f38bbc18",
   "metadata": {},
   "source": [
    "# Лабораторная работа 6\n",
    "## Работа с файлами и директориями в Python\n",
    "Выполнил: Исса"
   ]
  },
  {
   "cell_type": "markdown",
   "id": "b82bc6b5",
   "metadata": {},
   "source": [
    "### Задание 1: Умножение всех чисел в списке"
   ]
  },
  {
   "cell_type": "code",
   "execution_count": null,
   "id": "9b1e247d",
   "metadata": {},
   "outputs": [],
   "source": [
    "import math\n",
    "\n",
    "def multiply_list(lst):\n",
    "    return math.prod(lst)\n",
    "\n",
    "# Пример использования\n",
    "multiply_list([1, 2, 3, 4])"
   ]
  },
  {
   "cell_type": "markdown",
   "id": "2a761419",
   "metadata": {},
   "source": [
    "### Задание 2: Список директорий и файлов в указанном пути"
   ]
  },
  {
   "cell_type": "code",
   "execution_count": null,
   "id": "0acb1d93",
   "metadata": {},
   "outputs": [],
   "source": [
    "import os\n",
    "\n",
    "def list_directories_files(path):\n",
    "    directories = [d for d in os.listdir(path) if os.path.isdir(os.path.join(path, d))]\n",
    "    files = [f for f in os.listdir(path) if os.path.isfile(os.path.join(path, f))]\n",
    "    return directories, files\n",
    "\n",
    "# Пример использования\n",
    "list_directories_files(\".\")"
   ]
  },
  {
   "cell_type": "markdown",
   "id": "78267b7e",
   "metadata": {},
   "source": [
    "### Задание 3: Проверка доступа к указанному пути"
   ]
  },
  {
   "cell_type": "code",
   "execution_count": null,
   "id": "df8a6c03",
   "metadata": {},
   "outputs": [],
   "source": [
    "def check_access(path):\n",
    "    return {\n",
    "        \"exists\": os.path.exists(path),\n",
    "        \"readable\": os.access(path, os.R_OK),\n",
    "        \"writable\": os.access(path, os.W_OK),\n",
    "        \"executable\": os.access(path, os.X_OK)\n",
    "    }\n",
    "\n",
    "# Пример использования\n",
    "check_access(\"test.txt\")"
   ]
  },
  {
   "cell_type": "markdown",
   "id": "c71b2825",
   "metadata": {},
   "source": [
    "### Задание 4: Проверка существования пути и разбор"
   ]
  },
  {
   "cell_type": "code",
   "execution_count": null,
   "id": "503c7869",
   "metadata": {},
   "outputs": [],
   "source": [
    "def check_path(path):\n",
    "    if os.path.exists(path):\n",
    "        return {\"filename\": os.path.basename(path), \"directory\": os.path.dirname(path)}\n",
    "    return \"Path does not exist\"\n",
    "\n",
    "# Пример использования\n",
    "check_path(\"test.txt\")"
   ]
  },
  {
   "cell_type": "markdown",
   "id": "75c7b172",
   "metadata": {},
   "source": [
    "### Задание 5: Подсчет количества строк в файле"
   ]
  },
  {
   "cell_type": "code",
   "execution_count": null,
   "id": "14828a07",
   "metadata": {},
   "outputs": [],
   "source": [
    "def count_lines(filename):\n",
    "    with open(filename, 'r') as file:\n",
    "        return sum(1 for line in file)\n",
    "\n",
    "# Пример использования\n",
    "count_lines(\"test.txt\")"
   ]
  },
  {
   "cell_type": "markdown",
   "id": "19c8f83e",
   "metadata": {},
   "source": [
    "### Задание 6: Запись списка в файл"
   ]
  },
  {
   "cell_type": "code",
   "execution_count": null,
   "id": "621bfc64",
   "metadata": {},
   "outputs": [],
   "source": [
    "def write_list_to_file(filename, lst):\n",
    "    with open(filename, 'w') as file:\n",
    "        for item in lst:\n",
    "            file.write(f\"{item}\\n\")\n",
    "\n",
    "# Пример использования\n",
    "write_list_to_file(\"list.txt\", [\"apple\", \"banana\", \"cherry\"])"
   ]
  },
  {
   "cell_type": "markdown",
   "id": "f4cc5bd7",
   "metadata": {},
   "source": [
    "### Задание 7: Генерация файлов A-Z"
   ]
  },
  {
   "cell_type": "code",
   "execution_count": null,
   "id": "e4ab0411",
   "metadata": {},
   "outputs": [],
   "source": [
    "def generate_text_files():\n",
    "    for char in range(65, 91):  # ASCII значения A-Z\n",
    "        with open(f\"{chr(char)}.txt\", \"w\") as file:\n",
    "            file.write(f\"This is file {chr(char)}.txt\\n\")\n",
    "\n",
    "# Запуск функции\n",
    "generate_text_files()"
   ]
  },
  {
   "cell_type": "markdown",
   "id": "56000f69",
   "metadata": {},
   "source": [
    "### Задание 8: Копирование содержимого файла"
   ]
  },
  {
   "cell_type": "code",
   "execution_count": null,
   "id": "2c141be0",
   "metadata": {},
   "outputs": [],
   "source": [
    "import shutil\n",
    "\n",
    "def copy_file(source, destination):\n",
    "    shutil.copy(source, destination)\n",
    "\n",
    "# Пример использования\n",
    "copy_file(\"list.txt\", \"copy_list.txt\")"
   ]
  },
  {
   "cell_type": "markdown",
   "id": "b3f2b7a2",
   "metadata": {},
   "source": [
    "### Задание 9: Удаление файла"
   ]
  },
  {
   "cell_type": "code",
   "execution_count": null,
   "id": "7f380888",
   "metadata": {},
   "outputs": [],
   "source": [
    "def delete_file(path):\n",
    "    if os.path.exists(path) and os.access(path, os.W_OK):\n",
    "        os.remove(path)\n",
    "        return \"File deleted\"\n",
    "    return \"File cannot be deleted\"\n",
    "\n",
    "# Пример использования\n",
    "delete_file(\"copy_list.txt\")"
   ]
  },
  {
   "cell_type": "markdown",
   "id": "9dc7d6e6",
   "metadata": {},
   "source": [
    "### Задание 10: Подсчет заглавных и строчных букв в строке"
   ]
  },
  {
   "cell_type": "code",
   "execution_count": null,
   "id": "47a84f69",
   "metadata": {},
   "outputs": [],
   "source": [
    "def count_case(s):\n",
    "    upper = sum(1 for c in s if c.isupper())\n",
    "    lower = sum(1 for c in s if c.islower())\n",
    "    return {\"upper\": upper, \"lower\": lower}\n",
    "\n",
    "# Пример использования\n",
    "count_case(\"Hello World!\")"
   ]
  },
  {
   "cell_type": "markdown",
   "id": "a97f940c",
   "metadata": {},
   "source": [
    "### Задание 11: Проверка на палиндром"
   ]
  },
  {
   "cell_type": "code",
   "execution_count": null,
   "id": "ae67b75a",
   "metadata": {},
   "outputs": [],
   "source": [
    "def is_palindrome(s):\n",
    "    return s == s[::-1]\n",
    "\n",
    "# Пример использования\n",
    "is_palindrome(\"racecar\")"
   ]
  },
  {
   "cell_type": "markdown",
   "id": "3b7edffa",
   "metadata": {},
   "source": [
    "### Задание 12: Квадратный корень после задержки"
   ]
  },
  {
   "cell_type": "code",
   "execution_count": null,
   "id": "3bc4a269",
   "metadata": {},
   "outputs": [],
   "source": [
    "import time\n",
    "\n",
    "def sqrt_after_delay(number, milliseconds):\n",
    "    time.sleep(milliseconds / 1000)\n",
    "    return math.sqrt(number)\n",
    "\n",
    "# Пример использования\n",
    "sqrt_after_delay(25100, 2123)"
   ]
  },
  {
   "cell_type": "markdown",
   "id": "a5ab87bc",
   "metadata": {},
   "source": [
    "### Задание 13: Проверка всех элементов кортежа на True"
   ]
  },
  {
   "cell_type": "code",
   "execution_count": null,
   "id": "0c736fdb",
   "metadata": {},
   "outputs": [],
   "source": [
    "def all_true(tpl):\n",
    "    return all(tpl)\n",
    "\n",
    "# Пример использования\n",
    "all_true((True, True, False))"
   ]
  }
 ],
 "metadata": {},
 "nbformat": 4,
 "nbformat_minor": 5
}